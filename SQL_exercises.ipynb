{
 "cells": [
  {
   "cell_type": "markdown",
   "metadata": {},
   "source": [
    "## We will be working with database chinook.db\n",
    "You can download it here: https://drive.google.com/file/d/0Bz9_0VdXvv9bWUtqM0NBYzhKZ3c/view?usp=sharing\n",
    "\n",
    "The\tChinook\tDatabase is\tabout an imaginary video and music store. Each track is\tstored using one of\tthe digital formats and\thas\ta genre. The store has also\tsome playlists,\twhere a single track can be\tpart of several\tplaylists. Orders are recorded\tfor\tcustomers, but are called invoices. Every customer is assigned a support employee, and Employees report to other employees."
   ]
  },
  {
   "cell_type": "markdown",
   "metadata": {},
   "source": [
    "### How to connect Python to database\n",
    "In the begining of this exercise we are going to show we can work with the databases inside the Python. We will connect this notebook to the `chinook.db` file we have downloaded earlier."
   ]
  },
  {
   "cell_type": "markdown",
   "metadata": {},
   "source": [
    "<img src=\"chinook.jpeg\" alt=\"Drawing\" style=\"width: 600px;\"/>"
   ]
  },
  {
   "cell_type": "code",
   "execution_count": 5,
   "metadata": {},
   "outputs": [
    {
     "name": "stdout",
     "output_type": "stream",
     "text": [
      "[(1, 'AC/DC'), (2, 'Accept'), (3, 'Aerosmith'), (4, 'Alanis Morissette'), (5, 'Alice In Chains')]\n"
     ]
    }
   ],
   "source": [
    "#import os.path\n",
    "import os\n",
    "import sqlite3\n",
    "import pandas as pd\n",
    "BASE_DIR = os.getcwd()\n",
    "db_path = os.path.join(BASE_DIR, 'chinook.db')\n",
    "db=sqlite3.connect(db_path)\n",
    "c=db.cursor()\n",
    "\n",
    "c.execute(\"SELECT * FROM artists limit 5\")\n",
    "results = c.fetchall()\n",
    "print(results)\n",
    "\n",
    "#print(c.execute(\"SELECT name FROM sqlite_master WHERE type='table'\").fetchall())\n",
    "\n",
    "\n",
    "#print\"select * from artists limit 5;\""
   ]
  },
  {
   "cell_type": "code",
   "execution_count": null,
   "metadata": {},
   "outputs": [],
   "source": []
  },
  {
   "cell_type": "code",
   "execution_count": 6,
   "metadata": {},
   "outputs": [
    {
     "name": "stdout",
     "output_type": "stream",
     "text": [
      "[(1, 'AC/DC'), (2, 'Accept'), (3, 'Aerosmith'), (4, 'Alanis Morissette'), (5, 'Alice In Chains')]\n"
     ]
    }
   ],
   "source": [
    "cur = db.cursor()\n",
    "cur.execute(\"select * from artists limit 5;\")\n",
    "results = cur.fetchall()\n",
    "print(results)"
   ]
  },
  {
   "cell_type": "markdown",
   "metadata": {},
   "source": [
    "- each row is represented as 1 item in the list\n",
    "- each row consists of tuple with number of items equal to number of columns in the table `artists`"
   ]
  },
  {
   "cell_type": "code",
   "execution_count": 7,
   "metadata": {},
   "outputs": [
    {
     "data": {
      "text/html": [
       "<div>\n",
       "<style scoped>\n",
       "    .dataframe tbody tr th:only-of-type {\n",
       "        vertical-align: middle;\n",
       "    }\n",
       "\n",
       "    .dataframe tbody tr th {\n",
       "        vertical-align: top;\n",
       "    }\n",
       "\n",
       "    .dataframe thead th {\n",
       "        text-align: right;\n",
       "    }\n",
       "</style>\n",
       "<table border=\"1\" class=\"dataframe\">\n",
       "  <thead>\n",
       "    <tr style=\"text-align: right;\">\n",
       "      <th></th>\n",
       "      <th>ArtistId</th>\n",
       "      <th>Name</th>\n",
       "    </tr>\n",
       "  </thead>\n",
       "  <tbody>\n",
       "    <tr>\n",
       "      <th>0</th>\n",
       "      <td>1</td>\n",
       "      <td>AC/DC</td>\n",
       "    </tr>\n",
       "    <tr>\n",
       "      <th>1</th>\n",
       "      <td>2</td>\n",
       "      <td>Accept</td>\n",
       "    </tr>\n",
       "    <tr>\n",
       "      <th>2</th>\n",
       "      <td>3</td>\n",
       "      <td>Aerosmith</td>\n",
       "    </tr>\n",
       "    <tr>\n",
       "      <th>3</th>\n",
       "      <td>4</td>\n",
       "      <td>Alanis Morissette</td>\n",
       "    </tr>\n",
       "    <tr>\n",
       "      <th>4</th>\n",
       "      <td>5</td>\n",
       "      <td>Alice In Chains</td>\n",
       "    </tr>\n",
       "  </tbody>\n",
       "</table>\n",
       "</div>"
      ],
      "text/plain": [
       "   ArtistId               Name\n",
       "0         1              AC/DC\n",
       "1         2             Accept\n",
       "2         3          Aerosmith\n",
       "3         4  Alanis Morissette\n",
       "4         5    Alice In Chains"
      ]
     },
     "execution_count": 7,
     "metadata": {},
     "output_type": "execute_result"
    }
   ],
   "source": [
    "# Before we move on, it’s good practice to close Connection objects and Cursor objects that are open. \n",
    "# This prevents the SQLite database from being locked.\n",
    "#cur.close()\n",
    "#conn.close()\n",
    "#c.execute(\"SELECT * FROM artists\")\n",
    "#df = pd.DataFrame()\n",
    "df = pd.read_sql_query(\"SELECT * from artists\", db)\n",
    "df.head()"
   ]
  },
  {
   "cell_type": "markdown",
   "metadata": {},
   "source": [
    "Now, we can solve simple challenges below. Feel free to use **SQLWorkbench**, the tool we connected to `chinook.db` database during the tutorial in the morning, for building the queries as well."
   ]
  },
  {
   "cell_type": "markdown",
   "metadata": {},
   "source": [
    "### Which\tartists\tdid\tnot\tmake\tany\talbums\tat\tall?\tInclude\ttheir\tnames\tin your\tanswer."
   ]
  },
  {
   "cell_type": "code",
   "execution_count": null,
   "metadata": {},
   "outputs": [],
   "source": []
  },
  {
   "cell_type": "markdown",
   "metadata": {},
   "source": [
    "### Which\tartists\trecorded\tany\ttracks\tof\tthe\tLatin\tgenre?"
   ]
  },
  {
   "cell_type": "code",
   "execution_count": null,
   "metadata": {},
   "outputs": [],
   "source": []
  },
  {
   "cell_type": "markdown",
   "metadata": {},
   "source": [
    "### Which\tvideo track\thas\tthe\tlongest\tlength?"
   ]
  },
  {
   "cell_type": "code",
   "execution_count": null,
   "metadata": {},
   "outputs": [],
   "source": []
  },
  {
   "cell_type": "markdown",
   "metadata": {},
   "source": [
    "### Find\tthe\tnames\tof\tcustomers\twho\tlive\tin\tthe\tsame\tcity\tas\tthe\ttop\temployee\t(The\tone\tnot\tmanaged\tby\tanyone)."
   ]
  },
  {
   "cell_type": "code",
   "execution_count": null,
   "metadata": {},
   "outputs": [],
   "source": []
  },
  {
   "cell_type": "markdown",
   "metadata": {},
   "source": [
    "### Find\tthe\tmanagers of\temployees\tsupporting\tBrazilian\tcustomers."
   ]
  },
  {
   "cell_type": "code",
   "execution_count": null,
   "metadata": {},
   "outputs": [],
   "source": []
  },
  {
   "cell_type": "markdown",
   "metadata": {},
   "source": [
    "### Which\tplaylists\thave\tno\tLatin\ttracks?"
   ]
  },
  {
   "cell_type": "code",
   "execution_count": null,
   "metadata": {},
   "outputs": [],
   "source": []
  },
  {
   "cell_type": "code",
   "execution_count": 1,
   "metadata": {},
   "outputs": [
    {
     "name": "stdout",
     "output_type": "stream",
     "text": [
      "[('albums',), ('sqlite_sequence',), ('artists',), ('customers',), ('employees',), ('genres',), ('invoices',), ('invoice_items',), ('media_types',), ('playlists',), ('playlist_track',), ('tracks',), ('sqlite_stat1',)]\n"
     ]
    }
   ],
   "source": [
    "#import os.path\n",
    "import os\n",
    "import sqlite3\n",
    "BASE_DIR = os.getcwd()\n",
    "db_path = os.path.join(BASE_DIR, 'chinook.db')\n",
    "db=sqlite3.connect(db_path)\n",
    "c=db.cursor()\n",
    "#print(c.execute(\"SELECT name FROM sqlite_master WHERE type=‘table’\").fetchall())\n",
    "print(c.execute(\"SELECT name FROM sqlite_master WHERE type='table'\").fetchall())\n",
    "\"select * from artists limit 5;\""
   ]
  },
  {
   "cell_type": "code",
   "execution_count": null,
   "metadata": {},
   "outputs": [],
   "source": []
  }
 ],
 "metadata": {
  "kernelspec": {
   "display_name": "Python 3",
   "language": "python",
   "name": "python3"
  },
  "language_info": {
   "codemirror_mode": {
    "name": "ipython",
    "version": 3
   },
   "file_extension": ".py",
   "mimetype": "text/x-python",
   "name": "python",
   "nbconvert_exporter": "python",
   "pygments_lexer": "ipython3",
   "version": "3.7.6"
  }
 },
 "nbformat": 4,
 "nbformat_minor": 4
}
