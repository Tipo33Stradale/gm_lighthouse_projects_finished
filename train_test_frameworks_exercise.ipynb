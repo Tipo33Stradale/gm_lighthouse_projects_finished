{
 "cells": [
  {
   "cell_type": "markdown",
   "metadata": {},
   "source": [
    "# Train Test Frameworks\n",
    "These are simple exercises for practicing syntax of various functions from sklearn that split data into the train and test sets. The goal is to get familiar with these methods prior to the more complex challenge at the end of the day."
   ]
  },
  {
   "cell_type": "code",
   "execution_count": 6,
   "metadata": {
    "ExecuteTime": {
     "end_time": "2020-04-27T07:17:19.733929Z",
     "start_time": "2020-04-27T07:17:19.730983Z"
    }
   },
   "outputs": [],
   "source": [
    "# import numpy\n",
    "import numpy as np"
   ]
  },
  {
   "cell_type": "code",
   "execution_count": 7,
   "metadata": {
    "ExecuteTime": {
     "end_time": "2020-04-27T07:17:20.442277Z",
     "start_time": "2020-04-27T07:17:20.436036Z"
    }
   },
   "outputs": [],
   "source": [
    "X = np.random.normal(0,1,20).reshape(10,2)\n",
    "y = np.random.normal(0,1,10)"
   ]
  },
  {
   "cell_type": "markdown",
   "metadata": {},
   "source": [
    "* print X"
   ]
  },
  {
   "cell_type": "code",
   "execution_count": 8,
   "metadata": {
    "ExecuteTime": {
     "end_time": "2020-02-25T10:10:05.516072Z",
     "start_time": "2020-02-25T10:10:05.507842Z"
    }
   },
   "outputs": [
    {
     "data": {
      "text/plain": [
       "array([[-2.41301388,  0.74041969],\n",
       "       [-0.46356324, -0.0060666 ],\n",
       "       [ 0.97992978, -0.81761852],\n",
       "       [ 0.18486767, -0.93222325],\n",
       "       [ 1.02041508, -1.20280445],\n",
       "       [ 0.13198978,  0.51058714],\n",
       "       [-2.13940978,  1.2354469 ],\n",
       "       [ 1.17391075, -0.30157023],\n",
       "       [-0.81198027, -0.16358266],\n",
       "       [ 0.63253608,  0.9780095 ]])"
      ]
     },
     "execution_count": 8,
     "metadata": {},
     "output_type": "execute_result"
    }
   ],
   "source": [
    "X"
   ]
  },
  {
   "cell_type": "markdown",
   "metadata": {},
   "source": [
    "* print y"
   ]
  },
  {
   "cell_type": "code",
   "execution_count": 9,
   "metadata": {
    "ExecuteTime": {
     "end_time": "2020-02-25T10:10:06.238921Z",
     "start_time": "2020-02-25T10:10:06.228202Z"
    }
   },
   "outputs": [
    {
     "data": {
      "text/plain": [
       "array([ 0.45490422, -0.06380328,  0.79564566,  0.23120931, -0.75901017,\n",
       "       -0.67709686, -0.22553772, -1.68258679,  0.58374865,  0.1575569 ])"
      ]
     },
     "execution_count": 9,
     "metadata": {},
     "output_type": "execute_result"
    }
   ],
   "source": [
    "y"
   ]
  },
  {
   "cell_type": "markdown",
   "metadata": {},
   "source": [
    "## HOLDOUT split"
   ]
  },
  {
   "cell_type": "markdown",
   "metadata": {},
   "source": [
    "* import train_test_split function from sklearn"
   ]
  },
  {
   "cell_type": "code",
   "execution_count": 10,
   "metadata": {
    "ExecuteTime": {
     "end_time": "2020-04-27T07:19:36.229754Z",
     "start_time": "2020-04-27T07:19:36.224380Z"
    }
   },
   "outputs": [],
   "source": [
    "from sklearn.model_selection import train_test_split"
   ]
  },
  {
   "cell_type": "markdown",
   "metadata": {},
   "source": [
    "* split the data to train set (70%) and test set (30%)"
   ]
  },
  {
   "cell_type": "code",
   "execution_count": 11,
   "metadata": {
    "ExecuteTime": {
     "end_time": "2020-04-27T07:19:36.690033Z",
     "start_time": "2020-04-27T07:19:36.679323Z"
    }
   },
   "outputs": [],
   "source": [
    "X_Train, X_Test, y_Train, y_Test = train_test_split(X, y, test_size = 0.3, random_state = 0)"
   ]
  },
  {
   "cell_type": "markdown",
   "metadata": {},
   "source": [
    "* print X_train"
   ]
  },
  {
   "cell_type": "code",
   "execution_count": 12,
   "metadata": {
    "ExecuteTime": {
     "end_time": "2020-04-27T07:19:37.410555Z",
     "start_time": "2020-04-27T07:19:37.384346Z"
    }
   },
   "outputs": [
    {
     "data": {
      "text/plain": [
       "array([[ 0.63253608,  0.9780095 ],\n",
       "       [-0.46356324, -0.0060666 ],\n",
       "       [-2.13940978,  1.2354469 ],\n",
       "       [ 1.17391075, -0.30157023],\n",
       "       [ 0.18486767, -0.93222325],\n",
       "       [-2.41301388,  0.74041969],\n",
       "       [ 0.13198978,  0.51058714]])"
      ]
     },
     "execution_count": 12,
     "metadata": {},
     "output_type": "execute_result"
    }
   ],
   "source": [
    "X_Train"
   ]
  },
  {
   "cell_type": "markdown",
   "metadata": {},
   "source": [
    "* split the data again but now with  shuttle=False"
   ]
  },
  {
   "cell_type": "code",
   "execution_count": 13,
   "metadata": {
    "ExecuteTime": {
     "end_time": "2020-04-27T07:19:38.392368Z",
     "start_time": "2020-04-27T07:19:38.387406Z"
    }
   },
   "outputs": [],
   "source": [
    "X_Train, X_Test, y_Train, y_Test = train_test_split(X, y, test_size = 0.3, random_state = 0, shuffle=False)"
   ]
  },
  {
   "cell_type": "markdown",
   "metadata": {},
   "source": [
    "* print X_train"
   ]
  },
  {
   "cell_type": "code",
   "execution_count": 14,
   "metadata": {
    "ExecuteTime": {
     "end_time": "2020-04-27T07:19:56.965372Z",
     "start_time": "2020-04-27T07:19:56.954696Z"
    }
   },
   "outputs": [
    {
     "data": {
      "text/plain": [
       "array([[-2.41301388,  0.74041969],\n",
       "       [-0.46356324, -0.0060666 ],\n",
       "       [ 0.97992978, -0.81761852],\n",
       "       [ 0.18486767, -0.93222325],\n",
       "       [ 1.02041508, -1.20280445],\n",
       "       [ 0.13198978,  0.51058714],\n",
       "       [-2.13940978,  1.2354469 ]])"
      ]
     },
     "execution_count": 14,
     "metadata": {},
     "output_type": "execute_result"
    }
   ],
   "source": [
    "X_Train"
   ]
  },
  {
   "cell_type": "markdown",
   "metadata": {},
   "source": [
    "* print shape of X_train and X_test"
   ]
  },
  {
   "cell_type": "code",
   "execution_count": 15,
   "metadata": {},
   "outputs": [
    {
     "data": {
      "text/plain": [
       "(7, 2)"
      ]
     },
     "execution_count": 15,
     "metadata": {},
     "output_type": "execute_result"
    }
   ],
   "source": [
    "X_Train.shape"
   ]
  },
  {
   "cell_type": "markdown",
   "metadata": {},
   "source": [
    "## K-FOLD split "
   ]
  },
  {
   "cell_type": "code",
   "execution_count": 16,
   "metadata": {},
   "outputs": [],
   "source": [
    "from sklearn.model_selection import KFold"
   ]
  },
  {
   "cell_type": "markdown",
   "metadata": {},
   "source": [
    "* import KFold from sklearn"
   ]
  },
  {
   "cell_type": "code",
   "execution_count": 17,
   "metadata": {
    "ExecuteTime": {
     "end_time": "2020-04-27T07:20:20.040524Z",
     "start_time": "2020-04-27T07:20:20.034774Z"
    }
   },
   "outputs": [],
   "source": [
    "kfold = KFold(5)"
   ]
  },
  {
   "cell_type": "markdown",
   "metadata": {},
   "source": [
    "* instantiate KFold with k=5"
   ]
  },
  {
   "cell_type": "code",
   "execution_count": 18,
   "metadata": {
    "ExecuteTime": {
     "end_time": "2020-04-27T07:21:02.886273Z",
     "start_time": "2020-04-27T07:21:02.882100Z"
    }
   },
   "outputs": [
    {
     "name": "stdout",
     "output_type": "stream",
     "text": [
      "train: [2 3 4 5 6 7 8 9], test: [0 1]\n",
      "train: [0 1 4 5 6 7 8 9], test: [2 3]\n",
      "train: [0 1 2 3 6 7 8 9], test: [4 5]\n",
      "train: [0 1 2 3 4 5 8 9], test: [6 7]\n",
      "train: [0 1 2 3 4 5 6 7], test: [8 9]\n"
     ]
    }
   ],
   "source": [
    "for train, test in kfold.split(X):\n",
    "    print('train: %s, test: %s' % (train, test))"
   ]
  },
  {
   "cell_type": "markdown",
   "metadata": {},
   "source": [
    "* iterate over train_index and test_index in kf.split(X) and print them"
   ]
  },
  {
   "cell_type": "code",
   "execution_count": 19,
   "metadata": {
    "ExecuteTime": {
     "end_time": "2020-04-27T07:21:30.570119Z",
     "start_time": "2020-04-27T07:21:30.560118Z"
    }
   },
   "outputs": [],
   "source": [
    "kfold = KFold(5, shuffle=True)"
   ]
  },
  {
   "cell_type": "markdown",
   "metadata": {},
   "source": [
    "* instantiate KFold with k=5 and shuffle=True"
   ]
  },
  {
   "cell_type": "code",
   "execution_count": 20,
   "metadata": {
    "ExecuteTime": {
     "end_time": "2020-04-27T07:21:52.693825Z",
     "start_time": "2020-04-27T07:21:52.687089Z"
    }
   },
   "outputs": [
    {
     "name": "stdout",
     "output_type": "stream",
     "text": [
      "train: [0 1 2 3 4 5 6 8], test: [7 9]\n",
      "train: [0 1 2 3 4 7 8 9], test: [5 6]\n",
      "train: [1 3 4 5 6 7 8 9], test: [0 2]\n",
      "train: [0 1 2 3 5 6 7 9], test: [4 8]\n",
      "train: [0 2 4 5 6 7 8 9], test: [1 3]\n"
     ]
    }
   ],
   "source": [
    "for train, test in kfold.split(X):\n",
    "    print('train: %s, test: %s' % (train, test))"
   ]
  },
  {
   "cell_type": "markdown",
   "metadata": {},
   "source": [
    "* iterate over train_index and test_index in kf.split(X) and print them"
   ]
  },
  {
   "cell_type": "code",
   "execution_count": null,
   "metadata": {
    "ExecuteTime": {
     "end_time": "2020-02-25T10:19:37.219179Z",
     "start_time": "2020-02-25T10:19:37.210814Z"
    }
   },
   "outputs": [],
   "source": []
  },
  {
   "cell_type": "markdown",
   "metadata": {
    "ExecuteTime": {
     "end_time": "2020-02-25T10:20:50.997776Z",
     "start_time": "2020-02-25T10:20:50.991967Z"
    }
   },
   "source": [
    "## LEAVE-ONE-OUT split\n",
    "this is a similar technique like the Leave-p-out in the previous readings, with p=1. Each observation is used as test set separately.\n",
    "- it's popular method for very small datasets\n",
    "- takes a lot of time for bigger data and can lead to overfitting of a final model."
   ]
  },
  {
   "cell_type": "code",
   "execution_count": 21,
   "metadata": {},
   "outputs": [],
   "source": [
    "from sklearn.model_selection import LeaveOneOut"
   ]
  },
  {
   "cell_type": "markdown",
   "metadata": {},
   "source": [
    "* import LeaveOneOut from sklearn"
   ]
  },
  {
   "cell_type": "code",
   "execution_count": 22,
   "metadata": {
    "ExecuteTime": {
     "end_time": "2020-04-27T07:22:57.562338Z",
     "start_time": "2020-04-27T07:22:57.557038Z"
    }
   },
   "outputs": [],
   "source": [
    "loo = LeaveOneOut()"
   ]
  },
  {
   "cell_type": "markdown",
   "metadata": {},
   "source": [
    "* instantiate LeaveOneOut"
   ]
  },
  {
   "cell_type": "code",
   "execution_count": 24,
   "metadata": {
    "ExecuteTime": {
     "end_time": "2020-04-27T07:22:58.073776Z",
     "start_time": "2020-04-27T07:22:58.069381Z"
    }
   },
   "outputs": [
    {
     "name": "stdout",
     "output_type": "stream",
     "text": [
      "TRAIN: [1 2 3 4 5 6 7 8 9] TEST: [0]\n",
      "[[-0.46356324 -0.0060666 ]\n",
      " [ 0.97992978 -0.81761852]\n",
      " [ 0.18486767 -0.93222325]\n",
      " [ 1.02041508 -1.20280445]\n",
      " [ 0.13198978  0.51058714]\n",
      " [-2.13940978  1.2354469 ]\n",
      " [ 1.17391075 -0.30157023]\n",
      " [-0.81198027 -0.16358266]\n",
      " [ 0.63253608  0.9780095 ]] [[-2.41301388  0.74041969]] [-0.06380328  0.79564566  0.23120931 -0.75901017 -0.67709686 -0.22553772\n",
      " -1.68258679  0.58374865  0.1575569 ] [0.45490422]\n",
      "TRAIN: [0 2 3 4 5 6 7 8 9] TEST: [1]\n",
      "[[-2.41301388  0.74041969]\n",
      " [ 0.97992978 -0.81761852]\n",
      " [ 0.18486767 -0.93222325]\n",
      " [ 1.02041508 -1.20280445]\n",
      " [ 0.13198978  0.51058714]\n",
      " [-2.13940978  1.2354469 ]\n",
      " [ 1.17391075 -0.30157023]\n",
      " [-0.81198027 -0.16358266]\n",
      " [ 0.63253608  0.9780095 ]] [[-0.46356324 -0.0060666 ]] [ 0.45490422  0.79564566  0.23120931 -0.75901017 -0.67709686 -0.22553772\n",
      " -1.68258679  0.58374865  0.1575569 ] [-0.06380328]\n",
      "TRAIN: [0 1 3 4 5 6 7 8 9] TEST: [2]\n",
      "[[-2.41301388  0.74041969]\n",
      " [-0.46356324 -0.0060666 ]\n",
      " [ 0.18486767 -0.93222325]\n",
      " [ 1.02041508 -1.20280445]\n",
      " [ 0.13198978  0.51058714]\n",
      " [-2.13940978  1.2354469 ]\n",
      " [ 1.17391075 -0.30157023]\n",
      " [-0.81198027 -0.16358266]\n",
      " [ 0.63253608  0.9780095 ]] [[ 0.97992978 -0.81761852]] [ 0.45490422 -0.06380328  0.23120931 -0.75901017 -0.67709686 -0.22553772\n",
      " -1.68258679  0.58374865  0.1575569 ] [0.79564566]\n",
      "TRAIN: [0 1 2 4 5 6 7 8 9] TEST: [3]\n",
      "[[-2.41301388  0.74041969]\n",
      " [-0.46356324 -0.0060666 ]\n",
      " [ 0.97992978 -0.81761852]\n",
      " [ 1.02041508 -1.20280445]\n",
      " [ 0.13198978  0.51058714]\n",
      " [-2.13940978  1.2354469 ]\n",
      " [ 1.17391075 -0.30157023]\n",
      " [-0.81198027 -0.16358266]\n",
      " [ 0.63253608  0.9780095 ]] [[ 0.18486767 -0.93222325]] [ 0.45490422 -0.06380328  0.79564566 -0.75901017 -0.67709686 -0.22553772\n",
      " -1.68258679  0.58374865  0.1575569 ] [0.23120931]\n",
      "TRAIN: [0 1 2 3 5 6 7 8 9] TEST: [4]\n",
      "[[-2.41301388  0.74041969]\n",
      " [-0.46356324 -0.0060666 ]\n",
      " [ 0.97992978 -0.81761852]\n",
      " [ 0.18486767 -0.93222325]\n",
      " [ 0.13198978  0.51058714]\n",
      " [-2.13940978  1.2354469 ]\n",
      " [ 1.17391075 -0.30157023]\n",
      " [-0.81198027 -0.16358266]\n",
      " [ 0.63253608  0.9780095 ]] [[ 1.02041508 -1.20280445]] [ 0.45490422 -0.06380328  0.79564566  0.23120931 -0.67709686 -0.22553772\n",
      " -1.68258679  0.58374865  0.1575569 ] [-0.75901017]\n",
      "TRAIN: [0 1 2 3 4 6 7 8 9] TEST: [5]\n",
      "[[-2.41301388  0.74041969]\n",
      " [-0.46356324 -0.0060666 ]\n",
      " [ 0.97992978 -0.81761852]\n",
      " [ 0.18486767 -0.93222325]\n",
      " [ 1.02041508 -1.20280445]\n",
      " [-2.13940978  1.2354469 ]\n",
      " [ 1.17391075 -0.30157023]\n",
      " [-0.81198027 -0.16358266]\n",
      " [ 0.63253608  0.9780095 ]] [[0.13198978 0.51058714]] [ 0.45490422 -0.06380328  0.79564566  0.23120931 -0.75901017 -0.22553772\n",
      " -1.68258679  0.58374865  0.1575569 ] [-0.67709686]\n",
      "TRAIN: [0 1 2 3 4 5 7 8 9] TEST: [6]\n",
      "[[-2.41301388  0.74041969]\n",
      " [-0.46356324 -0.0060666 ]\n",
      " [ 0.97992978 -0.81761852]\n",
      " [ 0.18486767 -0.93222325]\n",
      " [ 1.02041508 -1.20280445]\n",
      " [ 0.13198978  0.51058714]\n",
      " [ 1.17391075 -0.30157023]\n",
      " [-0.81198027 -0.16358266]\n",
      " [ 0.63253608  0.9780095 ]] [[-2.13940978  1.2354469 ]] [ 0.45490422 -0.06380328  0.79564566  0.23120931 -0.75901017 -0.67709686\n",
      " -1.68258679  0.58374865  0.1575569 ] [-0.22553772]\n",
      "TRAIN: [0 1 2 3 4 5 6 8 9] TEST: [7]\n",
      "[[-2.41301388  0.74041969]\n",
      " [-0.46356324 -0.0060666 ]\n",
      " [ 0.97992978 -0.81761852]\n",
      " [ 0.18486767 -0.93222325]\n",
      " [ 1.02041508 -1.20280445]\n",
      " [ 0.13198978  0.51058714]\n",
      " [-2.13940978  1.2354469 ]\n",
      " [-0.81198027 -0.16358266]\n",
      " [ 0.63253608  0.9780095 ]] [[ 1.17391075 -0.30157023]] [ 0.45490422 -0.06380328  0.79564566  0.23120931 -0.75901017 -0.67709686\n",
      " -0.22553772  0.58374865  0.1575569 ] [-1.68258679]\n",
      "TRAIN: [0 1 2 3 4 5 6 7 9] TEST: [8]\n",
      "[[-2.41301388  0.74041969]\n",
      " [-0.46356324 -0.0060666 ]\n",
      " [ 0.97992978 -0.81761852]\n",
      " [ 0.18486767 -0.93222325]\n",
      " [ 1.02041508 -1.20280445]\n",
      " [ 0.13198978  0.51058714]\n",
      " [-2.13940978  1.2354469 ]\n",
      " [ 1.17391075 -0.30157023]\n",
      " [ 0.63253608  0.9780095 ]] [[-0.81198027 -0.16358266]] [ 0.45490422 -0.06380328  0.79564566  0.23120931 -0.75901017 -0.67709686\n",
      " -0.22553772 -1.68258679  0.1575569 ] [0.58374865]\n",
      "TRAIN: [0 1 2 3 4 5 6 7 8] TEST: [9]\n",
      "[[-2.41301388  0.74041969]\n",
      " [-0.46356324 -0.0060666 ]\n",
      " [ 0.97992978 -0.81761852]\n",
      " [ 0.18486767 -0.93222325]\n",
      " [ 1.02041508 -1.20280445]\n",
      " [ 0.13198978  0.51058714]\n",
      " [-2.13940978  1.2354469 ]\n",
      " [ 1.17391075 -0.30157023]\n",
      " [-0.81198027 -0.16358266]] [[0.63253608 0.9780095 ]] [ 0.45490422 -0.06380328  0.79564566  0.23120931 -0.75901017 -0.67709686\n",
      " -0.22553772 -1.68258679  0.58374865] [0.1575569]\n"
     ]
    }
   ],
   "source": [
    "for train_index, test_index in loo.split(X):\n",
    "    print(\"TRAIN:\", train_index, \"TEST:\", test_index)\n",
    "    X_train, X_test = X[train_index], X[test_index]\n",
    "    y_train, y_test = y[train_index], y[test_index]\n",
    "    print(X_train, X_test, y_train, y_test)"
   ]
  },
  {
   "cell_type": "markdown",
   "metadata": {},
   "source": [
    "* iterate over train_index and test_index in loo.split(X) and print them"
   ]
  },
  {
   "cell_type": "code",
   "execution_count": 23,
   "metadata": {
    "ExecuteTime": {
     "end_time": "2020-04-27T07:23:15.893291Z",
     "start_time": "2020-04-27T07:23:15.882373Z"
    }
   },
   "outputs": [
    {
     "data": {
      "text/plain": [
       "10"
      ]
     },
     "execution_count": 23,
     "metadata": {},
     "output_type": "execute_result"
    }
   ],
   "source": [
    "loo.get_n_splits(X)"
   ]
  },
  {
   "cell_type": "markdown",
   "metadata": {
    "ExecuteTime": {
     "end_time": "2020-04-27T07:23:32.091854Z",
     "start_time": "2020-04-27T07:23:32.084557Z"
    }
   },
   "source": [
    "* print the number of splits"
   ]
  },
  {
   "cell_type": "code",
   "execution_count": null,
   "metadata": {
    "ExecuteTime": {
     "end_time": "2020-04-27T07:23:44.088113Z",
     "start_time": "2020-04-27T07:23:44.079901Z"
    }
   },
   "outputs": [],
   "source": []
  },
  {
   "cell_type": "code",
   "execution_count": null,
   "metadata": {},
   "outputs": [],
   "source": []
  }
 ],
 "metadata": {
  "kernelspec": {
   "display_name": "Python 3",
   "language": "python",
   "name": "python3"
  },
  "language_info": {
   "codemirror_mode": {
    "name": "ipython",
    "version": 3
   },
   "file_extension": ".py",
   "mimetype": "text/x-python",
   "name": "python",
   "nbconvert_exporter": "python",
   "pygments_lexer": "ipython3",
   "version": "3.7.6"
  },
  "toc": {
   "base_numbering": 1,
   "nav_menu": {},
   "number_sections": true,
   "sideBar": true,
   "skip_h1_title": false,
   "title_cell": "Table of Contents",
   "title_sidebar": "Contents",
   "toc_cell": false,
   "toc_position": {},
   "toc_section_display": true,
   "toc_window_display": false
  },
  "varInspector": {
   "cols": {
    "lenName": 16,
    "lenType": 16,
    "lenVar": 40
   },
   "kernels_config": {
    "python": {
     "delete_cmd_postfix": "",
     "delete_cmd_prefix": "del ",
     "library": "var_list.py",
     "varRefreshCmd": "print(var_dic_list())"
    },
    "r": {
     "delete_cmd_postfix": ") ",
     "delete_cmd_prefix": "rm(",
     "library": "var_list.r",
     "varRefreshCmd": "cat(var_dic_list()) "
    }
   },
   "types_to_exclude": [
    "module",
    "function",
    "builtin_function_or_method",
    "instance",
    "_Feature"
   ],
   "window_display": false
  }
 },
 "nbformat": 4,
 "nbformat_minor": 4
}
